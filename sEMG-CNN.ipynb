{
 "cells": [
  {
   "cell_type": "markdown",
   "metadata": {},
   "source": [
    "# sEMG CNN training "
   ]
  },
  {
   "cell_type": "code",
   "execution_count": 3,
   "metadata": {},
   "outputs": [],
   "source": [
    "import numpy as np\n",
    "import os\n",
    "from utilities import *\n",
    "from sklearn.model_selection import train_test_split\n",
    "import matplotlib.pyplot as plt\n",
    "%matplotlib inline"
   ]
  },
  {
   "cell_type": "markdown",
   "metadata": {},
   "source": [
    "## Prepare data"
   ]
  },
  {
   "cell_type": "markdown",
   "metadata": {},
   "source": [
    "Read in data and split into train/test portions:"
   ]
  },
  {
   "cell_type": "code",
   "execution_count": null,
   "metadata": {
    "scrolled": true
   },
   "outputs": [],
   "source": [
    "path = os.path.abspath(os.getcwd())\n",
    "X_train, labels_train, list_ch_train, X_test, labels_test, list_ch_test = read_data(\n",
    "    data_path='%s%ssEMG%sDatabase 2%s' % (path, os.sep, os.sep, os.sep),\n",
    "    shuffle=True,\n",
    "    sub_split=True\n",
    ")\n",
    "\n",
    "assert list_ch_train == list_ch_test, 'Mismatch in channels!'"
   ]
  },
  {
   "cell_type": "code",
   "execution_count": null,
   "metadata": {},
   "outputs": [],
   "source": [
    "X_train, X_test = standardize(X_train, X_test)"
   ]
  },
  {
   "cell_type": "markdown",
   "metadata": {},
   "source": [
    "Train/validation split using sklearn utility. Manually specify random state seed to make testing more deterministic."
   ]
  },
  {
   "cell_type": "code",
   "execution_count": null,
   "metadata": {},
   "outputs": [],
   "source": [
    "X_tr, X_vld, lab_tr, lab_vld = train_test_split(\n",
    "    X_train,\n",
    "    labels_train, \n",
    "    stratify=labels_train,\n",
    "    random_state=123\n",
    ")"
   ]
  },
  {
   "cell_type": "markdown",
   "metadata": {},
   "source": [
    "One-hot encoding:"
   ]
  },
  {
   "cell_type": "code",
   "execution_count": null,
   "metadata": {},
   "outputs": [],
   "source": [
    "y_tr = one_hot(lab_tr)\n",
    "y_vld = one_hot(lab_vld)\n",
    "y_test = one_hot(labels_test)"
   ]
  },
  {
   "cell_type": "markdown",
   "metadata": {},
   "source": [
    "## Initialize Tensorflow + Hyperparameters"
   ]
  },
  {
   "cell_type": "code",
   "execution_count": null,
   "metadata": {},
   "outputs": [],
   "source": [
    "import tensorflow as tf\n",
    "\n",
    "# The following were determined through iterative trial and error:\n",
    "batch_size = 100\n",
    "seq_len = 2496\n",
    "learning_rate = 0.00001\n",
    "epochs = 100\n",
    "\n",
    "n_classes = 6\n",
    "n_channels = 2"
   ]
  },
  {
   "cell_type": "markdown",
   "metadata": {},
   "source": [
    "## Construct Graph\n",
    "Placeholders:"
   ]
  },
  {
   "cell_type": "code",
   "execution_count": null,
   "metadata": {},
   "outputs": [],
   "source": [
    "graph = tf.Graph()\n",
    "\n",
    "with graph.as_default():\n",
    "    inputs_ = tf.placeholder(tf.float32, [None, seq_len, n_channels], name='inputs')\n",
    "    labels_ = tf.placeholder(tf.float32, [None, n_classes], name='labels')\n",
    "    keep_prob_ = tf.placeholder(tf.float32, name='keep')\n",
    "    learning_rate_ = tf.placeholder(tf.float32, name='learning_rate')"
   ]
  },
  {
   "cell_type": "markdown",
   "metadata": {},
   "source": [
    "## Build Convolutional Layers"
   ]
  },
  {
   "cell_type": "code",
   "execution_count": null,
   "metadata": {},
   "outputs": [],
   "source": [
    "with graph.as_default():\n",
    "    \n",
    "    # (batch, 2496, 2) --> (batch, 1248, 4)\n",
    "    conv1 = tf.layers.conv1d(\n",
    "        inputs=inputs_,\n",
    "        filters=4,\n",
    "        kernel_size=2,\n",
    "        strides=1, \n",
    "        padding='same',\n",
    "        activation=tf.nn.relu\n",
    "    )\n",
    "    max_pool_1 = tf.layers.max_pooling1d(inputs=conv1, pool_size=2, strides=2, padding='same')\n",
    "    \n",
    "    # (batch, 1248, 4) --> (batch, 624, 8)\n",
    "    conv2 = tf.layers.conv1d(\n",
    "        inputs=max_pool_1,\n",
    "        filters=8,\n",
    "        kernel_size=2,\n",
    "        strides=1,          \n",
    "        padding='same',\n",
    "        activation=tf.nn.relu\n",
    "    )\n",
    "    max_pool_2 = tf.layers.max_pooling1d(inputs=conv2, pool_size=2, strides=2, padding='same')\n",
    "    \n",
    "    # (batch, 624, 8) --> (batch, 312, 16)\n",
    "    conv3 = tf.layers.conv1d(\n",
    "        inputs=max_pool_2,\n",
    "        filters=16,\n",
    "        kernel_size=2,\n",
    "        strides=1,\n",
    "        padding='same',\n",
    "        activation=tf.nn.relu\n",
    "    )\n",
    "    max_pool_3 = tf.layers.max_pooling1d(inputs=conv3, pool_size=2, strides=2, padding='same')\n",
    "    \n",
    "    # (batch, 312, 16) --> (batch, 156, 32)\n",
    "    conv4 = tf.layers.conv1d(\n",
    "        inputs=max_pool_3,\n",
    "        filters=32,\n",
    "        kernel_size=2,\n",
    "        strides=1,\n",
    "        padding='same',\n",
    "        activation = tf.nn.relu\n",
    "    )\n",
    "    max_pool_4 = tf.layers.max_pooling1d(inputs=conv4, pool_size=2, strides=2, padding='same')\n",
    "    \n",
    "    # (batch, 156, 32) --> (batch, 78, 64)\n",
    "    conv5 = tf.layers.conv1d(\n",
    "        inputs=max_pool_4,\n",
    "        filters=64,\n",
    "        kernel_size=2,\n",
    "        strides=1,\n",
    "        padding='same',\n",
    "        activation = tf.nn.relu\n",
    "    )\n",
    "    max_pool_5 = tf.layers.max_pooling1d(inputs=conv5, pool_size=2, strides=2, padding='same')\n",
    "    \n",
    "    # (batch, 78, 64) --> (batch, 39, 128)\n",
    "    conv6 = tf.layers.conv1d(\n",
    "        inputs=max_pool_5,\n",
    "        filters=128,\n",
    "        kernel_size=2,\n",
    "        strides=1,\n",
    "        padding='same',\n",
    "        activation = tf.nn.relu\n",
    "    )\n",
    "    max_pool_6 = tf.layers.max_pooling1d(inputs=conv6, pool_size=2, strides=2, padding='same')\n",
    "    "
   ]
  },
  {
   "cell_type": "markdown",
   "metadata": {},
   "source": [
    "Pass to classifier:"
   ]
  },
  {
   "cell_type": "code",
   "execution_count": null,
   "metadata": {},
   "outputs": [],
   "source": [
    "with graph.as_default():\n",
    "    # Reshape, add dropout (dimensions match final convultional layer)\n",
    "    flat = tf.reshape(max_pool_6, (-1, 128 * 39))\n",
    "    flat = tf.nn.dropout(flat, keep_prob=keep_prob_)\n",
    "    \n",
    "    # Predictions\n",
    "    logits = tf.layers.dense(flat, n_classes)\n",
    "    \n",
    "    # Cost and optimizer\n",
    "    cost = tf.reduce_mean(tf.nn.softmax_cross_entropy_with_logits(logits=logits, labels=labels_))\n",
    "    optimizer = tf.train.AdamOptimizer(learning_rate_).minimize(cost)\n",
    "    \n",
    "    # Accuracy\n",
    "    correct_pred = tf.equal(tf.argmax(logits, 1), tf.argmax(labels_, 1))\n",
    "    accuracy = tf.reduce_mean(tf.cast(correct_pred, tf.float32), name='accuracy')"
   ]
  },
  {
   "cell_type": "markdown",
   "metadata": {},
   "source": [
    "## Train the network"
   ]
  },
  {
   "cell_type": "code",
   "execution_count": null,
   "metadata": {},
   "outputs": [],
   "source": [
    "if (os.path.exists('checkpoints-cnn') == False):\n",
    "    !mkdir checkpoints-cnn"
   ]
  },
  {
   "cell_type": "code",
   "execution_count": null,
   "metadata": {
    "scrolled": true
   },
   "outputs": [],
   "source": [
    "validation_acc = []\n",
    "validation_loss = []\n",
    "\n",
    "train_acc = []\n",
    "train_loss = []\n",
    "\n",
    "with graph.as_default():\n",
    "    saver = tf.train.Saver()\n",
    "\n",
    "with tf.Session(graph=graph) as sess:\n",
    "    sess.run(tf.global_variables_initializer())\n",
    "    iteration = 1\n",
    "   \n",
    "    # Loop over epochs\n",
    "    for e in range(epochs):\n",
    "        \n",
    "        # Loop over batches\n",
    "        for x,y in get_batches(X_tr, y_tr, batch_size):\n",
    "            \n",
    "            # Feed dictionary\n",
    "            feed = {inputs_: x, labels_: y, keep_prob_: 0.5, learning_rate_: learning_rate}\n",
    "            \n",
    "            # Loss\n",
    "            loss, _, acc = sess.run([cost, optimizer, accuracy], feed_dict=feed)\n",
    "            train_acc.append(acc)\n",
    "            train_loss.append(loss)\n",
    "            \n",
    "            # Print at each 5 iterations\n",
    "            if (iteration % 5 == 0):\n",
    "                print(\n",
    "                    'Epoch: {}/{}'.format(e, epochs),\n",
    "                    'Iteration: {:d}'.format(iteration),\n",
    "                    'Train loss: {:6f}'.format(loss),\n",
    "                    'Train acc: {:.6f}'.format(acc)\n",
    "                )\n",
    "            \n",
    "            # Compute validation loss at every 10 iterations\n",
    "            if (iteration % 10 == 0):                \n",
    "                val_acc_ = []\n",
    "                val_loss_ = []\n",
    "                \n",
    "                for x_v, y_v in get_batches(X_vld, y_vld, batch_size):\n",
    "                    \n",
    "                    # Feed\n",
    "                    feed = {inputs_: x_v, labels_: y_v, keep_prob_: 1.0}  \n",
    "                    \n",
    "                    # Loss\n",
    "                    loss_v, acc_v = sess.run([cost, accuracy], feed_dict=feed)                    \n",
    "                    val_acc_.append(acc_v)\n",
    "                    val_loss_.append(loss_v)\n",
    "                \n",
    "                # Display info\n",
    "                print(\n",
    "                    'Epoch: {}/{}'.format(e, epochs),\n",
    "                    'Iteration: {:d}'.format(iteration),\n",
    "                    'Validation loss: {:6f}'.format(np.mean(val_loss_)),\n",
    "                    'Validation acc: {:.6f}'.format(np.mean(val_acc_))\n",
    "                )\n",
    "                \n",
    "                # Store\n",
    "                validation_acc.append(np.mean(val_acc_))\n",
    "                validation_loss.append(np.mean(val_loss_))\n",
    "            \n",
    "            iteration += 1\n",
    "    \n",
    "    saver.save(sess,'checkpoints-cnn/semg.ckpt')"
   ]
  },
  {
   "cell_type": "code",
   "execution_count": null,
   "metadata": {},
   "outputs": [],
   "source": [
    "# Plot loss\n",
    "t = np.arange(iteration - 1)\n",
    "\n",
    "plt.figure(figsize=(6, 6))\n",
    "plt.plot(t, np.array(train_loss), 'r-', t[t % 10 == 0], np.array(validation_loss), 'b*')\n",
    "plt.xlabel(\"iteration\")\n",
    "plt.ylabel(\"Loss\")\n",
    "plt.legend(['train', 'validation'], loc='upper right')\n",
    "plt.show()"
   ]
  },
  {
   "cell_type": "code",
   "execution_count": null,
   "metadata": {},
   "outputs": [],
   "source": [
    "# Plot Accuracies\n",
    "plt.figure(figsize=(6, 6))\n",
    "\n",
    "plt.plot(t, np.array(train_acc), 'r-', t[t % 10 == 0], validation_acc, 'b*')\n",
    "plt.xlabel(\"iteration\")\n",
    "plt.ylabel(\"Accuracy\")\n",
    "plt.legend(['train', 'validation'], loc='upper right')\n",
    "plt.show()"
   ]
  },
  {
   "cell_type": "markdown",
   "metadata": {},
   "source": [
    "## Evaluate on test set"
   ]
  },
  {
   "cell_type": "code",
   "execution_count": 2,
   "metadata": {},
   "outputs": [
    {
     "ename": "NameError",
     "evalue": "name 'tf' is not defined",
     "output_type": "error",
     "traceback": [
      "\u001b[0;31m---------------------------------------------------------------------------\u001b[0m",
      "\u001b[0;31mNameError\u001b[0m                                 Traceback (most recent call last)",
      "\u001b[0;32m<ipython-input-2-b8a50a2874c1>\u001b[0m in \u001b[0;36m<module>\u001b[0;34m()\u001b[0m\n\u001b[1;32m      1\u001b[0m \u001b[0mtest_acc\u001b[0m \u001b[0;34m=\u001b[0m \u001b[0;34m[\u001b[0m\u001b[0;34m]\u001b[0m\u001b[0;34m\u001b[0m\u001b[0m\n\u001b[1;32m      2\u001b[0m \u001b[0;34m\u001b[0m\u001b[0m\n\u001b[0;32m----> 3\u001b[0;31m \u001b[0;32mwith\u001b[0m \u001b[0mtf\u001b[0m\u001b[0;34m.\u001b[0m\u001b[0mSession\u001b[0m\u001b[0;34m(\u001b[0m\u001b[0mgraph\u001b[0m\u001b[0;34m=\u001b[0m\u001b[0mgraph\u001b[0m\u001b[0;34m)\u001b[0m \u001b[0;32mas\u001b[0m \u001b[0msess\u001b[0m\u001b[0;34m:\u001b[0m\u001b[0;34m\u001b[0m\u001b[0m\n\u001b[0m\u001b[1;32m      4\u001b[0m     \u001b[0;31m# Restore checkpoint\u001b[0m\u001b[0;34m\u001b[0m\u001b[0;34m\u001b[0m\u001b[0m\n\u001b[1;32m      5\u001b[0m     \u001b[0msaver\u001b[0m\u001b[0;34m.\u001b[0m\u001b[0mrestore\u001b[0m\u001b[0;34m(\u001b[0m\u001b[0msess\u001b[0m\u001b[0;34m,\u001b[0m \u001b[0mtf\u001b[0m\u001b[0;34m.\u001b[0m\u001b[0mtrain\u001b[0m\u001b[0;34m.\u001b[0m\u001b[0mlatest_checkpoint\u001b[0m\u001b[0;34m(\u001b[0m\u001b[0;34m'checkpoints-cnn'\u001b[0m\u001b[0;34m)\u001b[0m\u001b[0;34m)\u001b[0m\u001b[0;34m\u001b[0m\u001b[0m\n",
      "\u001b[0;31mNameError\u001b[0m: name 'tf' is not defined"
     ]
    }
   ],
   "source": [
    "test_acc = []\n",
    "\n",
    "with tf.Session(graph=graph) as sess:\n",
    "    # Restore checkpoint\n",
    "    saver.restore(sess, tf.train.latest_checkpoint('checkpoints-cnn'))\n",
    "    \n",
    "    # Dictionary in which to track accuracies based on grip\n",
    "    accuracy_by_grip = [\n",
    "        (\n",
    "            'cylindrical',\n",
    "            {\n",
    "                'correct': 0,\n",
    "                'total': 0\n",
    "            }\n",
    "        ),\n",
    "        (\n",
    "            'hook', \n",
    "            {\n",
    "                'correct': 0, \n",
    "                'total': 0\n",
    "            }\n",
    "        ),\n",
    "        (\n",
    "            'lateral', \n",
    "            {\n",
    "                'correct': 0, \n",
    "                'total': 0\n",
    "            }\n",
    "        ),\n",
    "        (\n",
    "            'palmar', \n",
    "            {\n",
    "                'correct': 0, \n",
    "                'total': 0\n",
    "            }\n",
    "        ),\n",
    "        (\n",
    "            'spherical', \n",
    "            {\n",
    "                'correct': 0, \n",
    "                'total': 0\n",
    "            }\n",
    "        ),\n",
    "        (\n",
    "            'tip', \n",
    "            {\n",
    "                'correct': 0, \n",
    "                'total': 0\n",
    "            }\n",
    "        ),\n",
    "    ]\n",
    "    \n",
    "    for x_t, y_t in get_batches(X_test, y_test, batch_size):\n",
    "        feed = {\n",
    "            inputs_: x_t,\n",
    "            labels_: y_t,\n",
    "            keep_prob_: 1\n",
    "        }\n",
    "        \n",
    "        actual = y_t.argmax(axis=1)\n",
    "        predicted = sess.run(tf.argmax(logits, 1), feed_dict=feed)\n",
    "        \n",
    "        for i in range(len(actual)):\n",
    "            accuracy_by_grip[actual[i]][1]['total'] += 1\n",
    "            if actual[i] == predicted[i]:\n",
    "                accuracy_by_grip[actual[i]][1]['correct'] += 1\n",
    "        \n",
    "        batch_acc = sess.run(accuracy, feed_dict=feed)\n",
    "        test_acc.append(batch_acc)\n",
    "        \n",
    "    print('Accuracy by grip:')\n",
    "    \n",
    "    for grip, grip_data in accuracy_by_grip:\n",
    "        print('{}: {:.6f}'.format(grip, grip_data['correct'] / grip_data['total']))\n",
    "        \n",
    "    print('\\nOverall accuracy: {:.6f}'.format(np.mean(test_acc)))\n",
    "    "
   ]
  },
  {
   "cell_type": "code",
   "execution_count": null,
   "metadata": {},
   "outputs": [],
   "source": []
  }
 ],
 "metadata": {
  "kernelspec": {
   "display_name": "Python 3",
   "language": "python",
   "name": "python3"
  },
  "language_info": {
   "codemirror_mode": {
    "name": "ipython",
    "version": 3
   },
   "file_extension": ".py",
   "mimetype": "text/x-python",
   "name": "python",
   "nbconvert_exporter": "python",
   "pygments_lexer": "ipython3",
   "version": "3.6.4"
  },
  "widgets": {
   "state": {},
   "version": "1.1.2"
  }
 },
 "nbformat": 4,
 "nbformat_minor": 2
}
