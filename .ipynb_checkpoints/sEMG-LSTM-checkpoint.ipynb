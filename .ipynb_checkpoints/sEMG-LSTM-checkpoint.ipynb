{
 "cells": [
  {
   "cell_type": "markdown",
   "metadata": {},
   "source": [
    "# sEMG LSTM training "
   ]
  },
  {
   "cell_type": "code",
   "execution_count": 1,
   "metadata": {},
   "outputs": [],
   "source": [
    "# Imports\n",
    "import numpy as np\n",
    "import os\n",
    "from utils.semg_utilities import *\n",
    "from sklearn.model_selection import train_test_split\n",
    "import matplotlib.pyplot as plt\n",
    "%matplotlib inline"
   ]
  },
  {
   "cell_type": "markdown",
   "metadata": {},
   "source": [
    "## Prepare data"
   ]
  },
  {
   "cell_type": "code",
   "execution_count": 2,
   "metadata": {},
   "outputs": [],
   "source": [
    "X_train, labels_train, list_ch_train = read_data(data_path=\"C:\\\\Users\\\\db06370.AD\\\\Desktop\\\\deep-learning-HAR\\\\sEMG\\\\Database 2\\\\male_day_1\\\\\", split=\"train\") # train\n",
    "X_test, labels_test, list_ch_test = read_data(data_path=\"C:\\\\Users\\\\db06370.AD\\\\Desktop\\\\deep-learning-HAR\\\\sEMG\\\\Database 2\\\\male_day_2\\\\\", split=\"test\") # test\n",
    "\n",
    "assert list_ch_train == list_ch_test, \"Mistmatch in channels!\""
   ]
  },
  {
   "cell_type": "code",
   "execution_count": 3,
   "metadata": {},
   "outputs": [],
   "source": [
    "# Standardize\n",
    "X_train, X_test = standardize(X_train, X_test) "
   ]
  },
  {
   "cell_type": "markdown",
   "metadata": {},
   "source": [
    "Train/Validation Split"
   ]
  },
  {
   "cell_type": "code",
   "execution_count": 4,
   "metadata": {},
   "outputs": [],
   "source": [
    "X_tr, X_vld, lab_tr, lab_vld = train_test_split(X_train, labels_train, \n",
    "                                                stratify = labels_train,\n",
    "                                                random_state = 123)"
   ]
  },
  {
   "cell_type": "markdown",
   "metadata": {},
   "source": [
    "One-hot encoding:"
   ]
  },
  {
   "cell_type": "code",
   "execution_count": 5,
   "metadata": {},
   "outputs": [],
   "source": [
    "y_tr = one_hot(lab_tr)\n",
    "y_vld = one_hot(lab_vld)\n",
    "y_test = one_hot(labels_test)"
   ]
  },
  {
   "cell_type": "markdown",
   "metadata": {},
   "source": [
    "### Hyperparameters"
   ]
  },
  {
   "cell_type": "code",
   "execution_count": 6,
   "metadata": {},
   "outputs": [],
   "source": [
    "# Imports\n",
    "import tensorflow as tf\n",
    "\n",
    "lstm_size = 6         # 3 times the amount of channels\n",
    "lstm_layers = 2        # Number of layers\n",
    "batch_size = 20       # Batch size\n",
    "seq_len = 2500          # Number of steps\n",
    "learning_rate = 0.0001  # Learning rate (default is 0.001)\n",
    "epochs = 1000\n",
    "\n",
    "# Fixed\n",
    "n_classes = 2\n",
    "n_channels = 2"
   ]
  },
  {
   "cell_type": "markdown",
   "metadata": {},
   "source": [
    "### Construct the graph\n",
    "Placeholders"
   ]
  },
  {
   "cell_type": "code",
   "execution_count": 7,
   "metadata": {},
   "outputs": [],
   "source": [
    "graph = tf.Graph()\n",
    "\n",
    "# Construct placeholders\n",
    "with graph.as_default():\n",
    "    inputs_ = tf.placeholder(tf.float32, [None, seq_len, n_channels], name = 'inputs')\n",
    "    labels_ = tf.placeholder(tf.float32, [None, n_classes], name = 'labels')\n",
    "    keep_prob_ = tf.placeholder(tf.float32, name = 'keep')\n",
    "    learning_rate_ = tf.placeholder(tf.float32, name = 'learning_rate')"
   ]
  },
  {
   "cell_type": "markdown",
   "metadata": {},
   "source": [
    "Construct inputs to LSTM"
   ]
  },
  {
   "cell_type": "code",
   "execution_count": 8,
   "metadata": {},
   "outputs": [
    {
     "name": "stderr",
     "output_type": "stream",
     "text": [
      "C:\\Users\\db06370.AD\\AppData\\Local\\Continuum\\anaconda3\\lib\\site-packages\\h5py\\__init__.py:36: FutureWarning: Conversion of the second argument of issubdtype from `float` to `np.floating` is deprecated. In future, it will be treated as `np.float64 == np.dtype(float).type`.\n",
      "  from ._conv import register_converters as _register_converters\n"
     ]
    }
   ],
   "source": [
    "with graph.as_default():\n",
    "    # Construct the LSTM inputs and LSTM cells\n",
    "    lstm_in = tf.transpose(inputs_, [1,0,2]) # reshape into (seq_len, N, channels)\n",
    "    lstm_in = tf.reshape(lstm_in, [-1, n_channels]) # Now (seq_len*N, n_channels)\n",
    "    \n",
    "    # To cells\n",
    "    lstm_in = tf.layers.dense(lstm_in, lstm_size, activation=None) # or tf.nn.relu, tf.nn.sigmoid, tf.nn.tanh?\n",
    "    \n",
    "    # Open up the tensor into a list of seq_len pieces\n",
    "    lstm_in = tf.split(lstm_in, seq_len, 0)\n",
    "    \n",
    "    # Add LSTM layers\n",
    "    lstm = tf.contrib.rnn.BasicLSTMCell(lstm_size)\n",
    "    drop = tf.contrib.rnn.DropoutWrapper(lstm, output_keep_prob=keep_prob_)\n",
    "    cell = tf.contrib.rnn.MultiRNNCell([drop] * lstm_layers)\n",
    "    initial_state = cell.zero_state(batch_size, tf.float32)"
   ]
  },
  {
   "cell_type": "markdown",
   "metadata": {},
   "source": [
    "Define forward pass, cost function and optimizer:"
   ]
  },
  {
   "cell_type": "code",
   "execution_count": 9,
   "metadata": {},
   "outputs": [],
   "source": [
    "with graph.as_default():\n",
    "    outputs, final_state = tf.contrib.rnn.static_rnn(cell, lstm_in, dtype=tf.float32,\n",
    "                                                     initial_state = initial_state)\n",
    "    \n",
    "    # We only need the last output tensor to pass into a classifier\n",
    "    logits = tf.layers.dense(outputs[-1], n_classes, name='logits')\n",
    "    \n",
    "    # Cost function and optimizer\n",
    "    cost = tf.reduce_mean(tf.nn.softmax_cross_entropy_with_logits(logits=logits, labels=labels_))\n",
    "    #optimizer = tf.train.AdamOptimizer(learning_rate_).minimize(cost) # No grad clipping\n",
    "    \n",
    "    # Grad clipping\n",
    "    train_op = tf.train.AdamOptimizer(learning_rate_)\n",
    "\n",
    "    gradients = train_op.compute_gradients(cost)\n",
    "    capped_gradients = [(tf.clip_by_value(grad, -1., 1.), var) for grad, var in gradients]\n",
    "    optimizer = train_op.apply_gradients(capped_gradients)\n",
    "    \n",
    "    # Accuracy\n",
    "    correct_pred = tf.equal(tf.argmax(logits, 1), tf.argmax(labels_, 1))\n",
    "    accuracy = tf.reduce_mean(tf.cast(correct_pred, tf.float32), name='accuracy')"
   ]
  },
  {
   "cell_type": "markdown",
   "metadata": {},
   "source": [
    "### Train the network"
   ]
  },
  {
   "cell_type": "code",
   "execution_count": 10,
   "metadata": {},
   "outputs": [],
   "source": [
    "if (os.path.exists('checkpoints') == False):\n",
    "    !mkdir checkpoints"
   ]
  },
  {
   "cell_type": "code",
   "execution_count": null,
   "metadata": {
    "scrolled": true
   },
   "outputs": [
    {
     "name": "stdout",
     "output_type": "stream",
     "text": [
      "Epoch: 0/1000 Iteration: 5 Train loss: 0.694261 Train acc: 0.550000\n",
      "Epoch: 1/1000 Iteration: 10 Train loss: 0.709466 Train acc: 0.400000\n",
      "Epoch: 2/1000 Iteration: 15 Train loss: 0.688570 Train acc: 0.600000\n",
      "Epoch: 2/1000 Iteration: 20 Train loss: 0.703237 Train acc: 0.250000\n",
      "Epoch: 3/1000 Iteration: 25 Train loss: 0.725091 Train acc: 0.400000\n",
      "Epoch: 3/1000 Iteration: 25 Validation loss: 0.692675 Validation acc: 0.600000\n",
      "Epoch: 4/1000 Iteration: 30 Train loss: 0.714223 Train acc: 0.400000\n",
      "Epoch: 4/1000 Iteration: 35 Train loss: 0.697327 Train acc: 0.350000\n",
      "Epoch: 5/1000 Iteration: 40 Train loss: 0.708732 Train acc: 0.500000\n",
      "Epoch: 6/1000 Iteration: 45 Train loss: 0.710960 Train acc: 0.550000\n",
      "Epoch: 7/1000 Iteration: 50 Train loss: 0.707544 Train acc: 0.550000\n",
      "Epoch: 7/1000 Iteration: 50 Validation loss: 0.692602 Validation acc: 0.625000\n",
      "Epoch: 7/1000 Iteration: 55 Train loss: 0.695287 Train acc: 0.450000\n",
      "Epoch: 8/1000 Iteration: 60 Train loss: 0.680159 Train acc: 0.650000\n",
      "Epoch: 9/1000 Iteration: 65 Train loss: 0.697946 Train acc: 0.550000\n",
      "Epoch: 9/1000 Iteration: 70 Train loss: 0.696992 Train acc: 0.400000\n",
      "Epoch: 10/1000 Iteration: 75 Train loss: 0.681961 Train acc: 0.650000\n",
      "Epoch: 10/1000 Iteration: 75 Validation loss: 0.692510 Validation acc: 0.600000\n",
      "Epoch: 11/1000 Iteration: 80 Train loss: 0.680741 Train acc: 0.500000\n",
      "Epoch: 12/1000 Iteration: 85 Train loss: 0.690796 Train acc: 0.400000\n",
      "Epoch: 12/1000 Iteration: 90 Train loss: 0.701191 Train acc: 0.400000\n",
      "Epoch: 13/1000 Iteration: 95 Train loss: 0.664545 Train acc: 0.800000\n",
      "Epoch: 14/1000 Iteration: 100 Train loss: 0.709306 Train acc: 0.300000\n",
      "Epoch: 14/1000 Iteration: 100 Validation loss: 0.692425 Validation acc: 0.600000\n",
      "Epoch: 14/1000 Iteration: 105 Train loss: 0.693750 Train acc: 0.550000\n",
      "Epoch: 15/1000 Iteration: 110 Train loss: 0.697237 Train acc: 0.500000\n",
      "Epoch: 16/1000 Iteration: 115 Train loss: 0.692536 Train acc: 0.500000\n",
      "Epoch: 17/1000 Iteration: 120 Train loss: 0.689247 Train acc: 0.550000\n",
      "Epoch: 17/1000 Iteration: 125 Train loss: 0.694734 Train acc: 0.400000\n",
      "Epoch: 17/1000 Iteration: 125 Validation loss: 0.692409 Validation acc: 0.525000\n",
      "Epoch: 18/1000 Iteration: 130 Train loss: 0.710496 Train acc: 0.500000\n",
      "Epoch: 19/1000 Iteration: 135 Train loss: 0.709484 Train acc: 0.250000\n",
      "Epoch: 19/1000 Iteration: 140 Train loss: 0.694504 Train acc: 0.550000\n",
      "Epoch: 20/1000 Iteration: 145 Train loss: 0.689190 Train acc: 0.500000\n",
      "Epoch: 21/1000 Iteration: 150 Train loss: 0.693307 Train acc: 0.500000\n",
      "Epoch: 21/1000 Iteration: 150 Validation loss: 0.692249 Validation acc: 0.550000\n",
      "Epoch: 22/1000 Iteration: 155 Train loss: 0.703426 Train acc: 0.400000\n",
      "Epoch: 22/1000 Iteration: 160 Train loss: 0.670328 Train acc: 0.600000\n",
      "Epoch: 23/1000 Iteration: 165 Train loss: 0.692917 Train acc: 0.450000\n",
      "Epoch: 24/1000 Iteration: 170 Train loss: 0.686313 Train acc: 0.500000\n",
      "Epoch: 24/1000 Iteration: 175 Train loss: 0.697796 Train acc: 0.500000\n",
      "Epoch: 24/1000 Iteration: 175 Validation loss: 0.692086 Validation acc: 0.575000\n",
      "Epoch: 25/1000 Iteration: 180 Train loss: 0.700894 Train acc: 0.600000\n",
      "Epoch: 26/1000 Iteration: 185 Train loss: 0.714245 Train acc: 0.400000\n",
      "Epoch: 27/1000 Iteration: 190 Train loss: 0.700409 Train acc: 0.450000\n",
      "Epoch: 27/1000 Iteration: 195 Train loss: 0.698965 Train acc: 0.400000\n",
      "Epoch: 28/1000 Iteration: 200 Train loss: 0.691964 Train acc: 0.550000\n",
      "Epoch: 28/1000 Iteration: 200 Validation loss: 0.691874 Validation acc: 0.600000\n",
      "Epoch: 29/1000 Iteration: 205 Train loss: 0.684283 Train acc: 0.600000\n",
      "Epoch: 29/1000 Iteration: 210 Train loss: 0.684744 Train acc: 0.600000\n",
      "Epoch: 30/1000 Iteration: 215 Train loss: 0.698030 Train acc: 0.450000\n",
      "Epoch: 31/1000 Iteration: 220 Train loss: 0.682708 Train acc: 0.500000\n",
      "Epoch: 32/1000 Iteration: 225 Train loss: 0.674751 Train acc: 0.500000\n",
      "Epoch: 32/1000 Iteration: 225 Validation loss: 0.691741 Validation acc: 0.600000\n",
      "Epoch: 32/1000 Iteration: 230 Train loss: 0.707068 Train acc: 0.400000\n",
      "Epoch: 33/1000 Iteration: 235 Train loss: 0.689086 Train acc: 0.500000\n",
      "Epoch: 34/1000 Iteration: 240 Train loss: 0.677716 Train acc: 0.550000\n",
      "Epoch: 34/1000 Iteration: 245 Train loss: 0.702935 Train acc: 0.400000\n",
      "Epoch: 35/1000 Iteration: 250 Train loss: 0.711254 Train acc: 0.450000\n",
      "Epoch: 35/1000 Iteration: 250 Validation loss: 0.691631 Validation acc: 0.600000\n",
      "Epoch: 36/1000 Iteration: 255 Train loss: 0.653571 Train acc: 0.750000\n",
      "Epoch: 37/1000 Iteration: 260 Train loss: 0.690924 Train acc: 0.500000\n",
      "Epoch: 37/1000 Iteration: 265 Train loss: 0.699157 Train acc: 0.500000\n",
      "Epoch: 38/1000 Iteration: 270 Train loss: 0.692525 Train acc: 0.450000\n",
      "Epoch: 39/1000 Iteration: 275 Train loss: 0.679147 Train acc: 0.600000\n",
      "Epoch: 39/1000 Iteration: 275 Validation loss: 0.691507 Validation acc: 0.600000\n",
      "Epoch: 39/1000 Iteration: 280 Train loss: 0.699896 Train acc: 0.350000\n",
      "Epoch: 40/1000 Iteration: 285 Train loss: 0.711236 Train acc: 0.450000\n",
      "Epoch: 41/1000 Iteration: 290 Train loss: 0.690426 Train acc: 0.750000\n",
      "Epoch: 42/1000 Iteration: 295 Train loss: 0.670134 Train acc: 0.750000\n",
      "Epoch: 42/1000 Iteration: 300 Train loss: 0.708910 Train acc: 0.500000\n",
      "Epoch: 42/1000 Iteration: 300 Validation loss: 0.691394 Validation acc: 0.600000\n",
      "Epoch: 43/1000 Iteration: 305 Train loss: 0.701797 Train acc: 0.350000\n",
      "Epoch: 44/1000 Iteration: 310 Train loss: 0.716826 Train acc: 0.300000\n",
      "Epoch: 44/1000 Iteration: 315 Train loss: 0.701673 Train acc: 0.400000\n",
      "Epoch: 45/1000 Iteration: 320 Train loss: 0.651881 Train acc: 0.650000\n",
      "Epoch: 46/1000 Iteration: 325 Train loss: 0.711999 Train acc: 0.400000\n",
      "Epoch: 46/1000 Iteration: 325 Validation loss: 0.691303 Validation acc: 0.625000\n",
      "Epoch: 47/1000 Iteration: 330 Train loss: 0.701187 Train acc: 0.550000\n",
      "Epoch: 47/1000 Iteration: 335 Train loss: 0.677214 Train acc: 0.650000\n",
      "Epoch: 48/1000 Iteration: 340 Train loss: 0.707619 Train acc: 0.450000\n",
      "Epoch: 49/1000 Iteration: 345 Train loss: 0.711035 Train acc: 0.300000\n",
      "Epoch: 49/1000 Iteration: 350 Train loss: 0.694376 Train acc: 0.450000\n",
      "Epoch: 49/1000 Iteration: 350 Validation loss: 0.691195 Validation acc: 0.650000\n",
      "Epoch: 50/1000 Iteration: 355 Train loss: 0.655670 Train acc: 0.700000\n",
      "Epoch: 51/1000 Iteration: 360 Train loss: 0.682995 Train acc: 0.450000\n",
      "Epoch: 52/1000 Iteration: 365 Train loss: 0.684670 Train acc: 0.450000\n",
      "Epoch: 52/1000 Iteration: 370 Train loss: 0.700596 Train acc: 0.400000\n",
      "Epoch: 53/1000 Iteration: 375 Train loss: 0.689274 Train acc: 0.650000\n",
      "Epoch: 53/1000 Iteration: 375 Validation loss: 0.691088 Validation acc: 0.625000\n",
      "Epoch: 54/1000 Iteration: 380 Train loss: 0.693191 Train acc: 0.450000\n",
      "Epoch: 54/1000 Iteration: 385 Train loss: 0.683071 Train acc: 0.750000\n",
      "Epoch: 55/1000 Iteration: 390 Train loss: 0.703669 Train acc: 0.550000\n",
      "Epoch: 56/1000 Iteration: 395 Train loss: 0.698279 Train acc: 0.350000\n",
      "Epoch: 57/1000 Iteration: 400 Train loss: 0.654329 Train acc: 0.700000\n",
      "Epoch: 57/1000 Iteration: 400 Validation loss: 0.690854 Validation acc: 0.650000\n",
      "Epoch: 57/1000 Iteration: 405 Train loss: 0.685871 Train acc: 0.600000\n",
      "Epoch: 58/1000 Iteration: 410 Train loss: 0.698452 Train acc: 0.400000\n",
      "Epoch: 59/1000 Iteration: 415 Train loss: 0.702908 Train acc: 0.350000\n",
      "Epoch: 59/1000 Iteration: 420 Train loss: 0.681927 Train acc: 0.600000\n",
      "Epoch: 60/1000 Iteration: 425 Train loss: 0.708881 Train acc: 0.450000\n",
      "Epoch: 60/1000 Iteration: 425 Validation loss: 0.690635 Validation acc: 0.650000\n",
      "Epoch: 61/1000 Iteration: 430 Train loss: 0.715183 Train acc: 0.300000\n",
      "Epoch: 62/1000 Iteration: 435 Train loss: 0.681851 Train acc: 0.700000\n",
      "Epoch: 62/1000 Iteration: 440 Train loss: 0.670025 Train acc: 0.600000\n",
      "Epoch: 63/1000 Iteration: 445 Train loss: 0.698952 Train acc: 0.450000\n",
      "Epoch: 64/1000 Iteration: 450 Train loss: 0.690547 Train acc: 0.550000\n",
      "Epoch: 64/1000 Iteration: 450 Validation loss: 0.690482 Validation acc: 0.650000\n",
      "Epoch: 64/1000 Iteration: 455 Train loss: 0.705875 Train acc: 0.400000\n",
      "Epoch: 65/1000 Iteration: 460 Train loss: 0.689959 Train acc: 0.500000\n",
      "Epoch: 66/1000 Iteration: 465 Train loss: 0.733619 Train acc: 0.300000\n"
     ]
    }
   ],
   "source": [
    "validation_acc = []\n",
    "validation_loss = []\n",
    "\n",
    "train_acc = []\n",
    "train_loss = []\n",
    "\n",
    "with graph.as_default():\n",
    "    saver = tf.train.Saver()\n",
    "\n",
    "with tf.Session(graph=graph) as sess:\n",
    "    sess.run(tf.global_variables_initializer())\n",
    "    iteration = 1\n",
    "    \n",
    "    for e in range(epochs):\n",
    "        # Initialize \n",
    "        state = sess.run(initial_state)\n",
    "        \n",
    "        # Loop over batches\n",
    "        for x,y in get_batches(X_tr, y_tr, batch_size):\n",
    "            \n",
    "            # Feed dictionary\n",
    "            feed = {inputs_ : x, labels_ : y, keep_prob_ : 0.5, \n",
    "                    initial_state : state, learning_rate_ : learning_rate}\n",
    "            \n",
    "            loss, _ , state, acc = sess.run([cost, optimizer, final_state, accuracy], \n",
    "                                             feed_dict = feed)\n",
    "            train_acc.append(acc)\n",
    "            train_loss.append(loss)\n",
    "            \n",
    "            # Print at each 5 iters\n",
    "            if (iteration % 5 == 0):\n",
    "                print(\"Epoch: {}/{}\".format(e, epochs),\n",
    "                      \"Iteration: {:d}\".format(iteration),\n",
    "                      \"Train loss: {:6f}\".format(loss),\n",
    "                      \"Train acc: {:.6f}\".format(acc))\n",
    "            \n",
    "            # Compute validation loss at every 25 iterations\n",
    "            if (iteration%25 == 0):\n",
    "                \n",
    "                # Initiate for validation set\n",
    "                val_state = sess.run(cell.zero_state(batch_size, tf.float32))\n",
    "                \n",
    "                val_acc_ = []\n",
    "                val_loss_ = []\n",
    "                for x_v, y_v in get_batches(X_vld, y_vld, batch_size):\n",
    "                    # Feed\n",
    "                    feed = {inputs_ : x_v, labels_ : y_v, keep_prob_ : 1.0, initial_state : val_state}\n",
    "                    \n",
    "                    # Loss\n",
    "                    loss_v, state_v, acc_v = sess.run([cost, final_state, accuracy], feed_dict = feed)\n",
    "                    \n",
    "                    val_acc_.append(acc_v)\n",
    "                    val_loss_.append(loss_v)\n",
    "                \n",
    "                # Print info\n",
    "                print(\"Epoch: {}/{}\".format(e, epochs),\n",
    "                      \"Iteration: {:d}\".format(iteration),\n",
    "                      \"Validation loss: {:6f}\".format(np.mean(val_loss_)),\n",
    "                      \"Validation acc: {:.6f}\".format(np.mean(val_acc_)))\n",
    "                \n",
    "                # Store\n",
    "                validation_acc.append(np.mean(val_acc_))\n",
    "                validation_loss.append(np.mean(val_loss_))\n",
    "            \n",
    "            # Iterate \n",
    "            iteration += 1\n",
    "    \n",
    "    saver.save(sess,\"checkpoints/har-lstm.ckpt\")"
   ]
  },
  {
   "cell_type": "code",
   "execution_count": 12,
   "metadata": {},
   "outputs": [
    {
     "data": {
      "image/png": "[encoded data removed]",
      "text/plain": [
       "<matplotlib.figure.Figure at 0x7f479e514630>"
      ]
     },
     "metadata": {},
     "output_type": "display_data"
    }
   ],
   "source": [
    "# Plot training and test loss\n",
    "t = np.arange(iteration-1)\n",
    "\n",
    "plt.figure(figsize = (6,6))\n",
    "plt.plot(t, np.array(train_loss), 'r-', t[t % 25 == 0], np.array(validation_loss), 'b*')\n",
    "plt.xlabel(\"iteration\")\n",
    "plt.ylabel(\"Loss\")\n",
    "plt.legend(['train', 'validation'], loc='upper right')\n",
    "plt.show()"
   ]
  },
  {
   "cell_type": "code",
   "execution_count": 13,
   "metadata": {},
   "outputs": [
    {
     "data": {
      "image/png": "[encoded data removed]",
      "text/plain": [
       "<matplotlib.figure.Figure at 0x7f479e514d68>"
      ]
     },
     "metadata": {},
     "output_type": "display_data"
    }
   ],
   "source": [
    "# Plot Accuracies\n",
    "plt.figure(figsize = (6,6))\n",
    "\n",
    "plt.plot(t, np.array(train_acc), 'r-', t[t % 25 == 0], validation_acc, 'b*')\n",
    "plt.xlabel(\"iteration\")\n",
    "plt.ylabel(\"Accuray\")\n",
    "plt.legend(['train', 'validation'], loc='upper right')\n",
    "plt.show()"
   ]
  },
  {
   "cell_type": "markdown",
   "metadata": {},
   "source": [
    "## Evaluate on test set"
   ]
  },
  {
   "cell_type": "code",
   "execution_count": 14,
   "metadata": {},
   "outputs": [
    {
     "name": "stdout",
     "output_type": "stream",
     "text": [
      "Test accuracy: 0.880833\n"
     ]
    }
   ],
   "source": [
    "test_acc = []\n",
    "\n",
    "with tf.Session(graph=graph) as sess:\n",
    "    # Restore\n",
    "    saver.restore(sess, tf.train.latest_checkpoint('checkpoints'))\n",
    "    test_state = sess.run(cell.zero_state(batch_size, tf.float32))\n",
    "    \n",
    "    for x_t, y_t in get_batches(X_test, y_test, batch_size):\n",
    "        feed = {inputs_: x_t,\n",
    "                labels_: y_t,\n",
    "                keep_prob_: 1,\n",
    "                initial_state: test_state}\n",
    "        \n",
    "        batch_acc, test_state = sess.run([accuracy, final_state], feed_dict=feed)\n",
    "        test_acc.append(batch_acc)\n",
    "    print(\"Test accuracy: {:.6f}\".format(np.mean(test_acc)))"
   ]
  }
 ],
 "metadata": {
  "kernelspec": {
   "display_name": "Python 3",
   "language": "python",
   "name": "python3"
  },
  "language_info": {
   "codemirror_mode": {
    "name": "ipython",
    "version": 3
   },
   "file_extension": ".py",
   "mimetype": "text/x-python",
   "name": "python",
   "nbconvert_exporter": "python",
   "pygments_lexer": "ipython3",
   "version": "3.6.4"
  },
  "widgets": {
   "state": {},
   "version": "1.1.2"
  }
 },
 "nbformat": 4,
 "nbformat_minor": 2
}
